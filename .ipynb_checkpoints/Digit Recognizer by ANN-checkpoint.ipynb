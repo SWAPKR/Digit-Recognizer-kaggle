{
 "cells": [
  {
   "cell_type": "code",
   "execution_count": 42,
   "metadata": {},
   "outputs": [],
   "source": [
    "import numpy as np\n",
    "import pandas as pd\n",
    "import tensorflow as tf"
   ]
  },
  {
   "cell_type": "code",
   "execution_count": 43,
   "metadata": {},
   "outputs": [],
   "source": [
    "train=pd.read_csv('train.csv')\n",
    "test=pd.read_csv('test.csv')"
   ]
  },
  {
   "cell_type": "code",
   "execution_count": 51,
   "metadata": {},
   "outputs": [],
   "source": [
    "train_x=train.iloc[:,1:].values\n",
    "train_y=train.iloc[:,0].values\n",
    "test_x=test.values"
   ]
  },
  {
   "cell_type": "code",
   "execution_count": 52,
   "metadata": {},
   "outputs": [],
   "source": [
    "train_x=train_x/255\n",
    "test_x=test_x/255"
   ]
  },
  {
   "cell_type": "code",
   "execution_count": 55,
   "metadata": {},
   "outputs": [],
   "source": [
    "train_y = tf.keras.utils.to_categorical(train_y, num_classes=10)"
   ]
  },
  {
   "cell_type": "code",
   "execution_count": 56,
   "metadata": {},
   "outputs": [],
   "source": [
    "ann = tf.keras.models.Sequential()"
   ]
  },
  {
   "cell_type": "code",
   "execution_count": 58,
   "metadata": {},
   "outputs": [],
   "source": [
    "ann.add(tf.keras.layers.Dense(units=128, activation='relu'))"
   ]
  },
  {
   "cell_type": "code",
   "execution_count": 59,
   "metadata": {},
   "outputs": [],
   "source": [
    "ann.add(tf.keras.layers.Dense(units=128, activation='relu'))"
   ]
  },
  {
   "cell_type": "code",
   "execution_count": 60,
   "metadata": {},
   "outputs": [],
   "source": [
    "ann.add(tf.keras.layers.Dense(units=10, activation='softmax'))"
   ]
  },
  {
   "cell_type": "code",
   "execution_count": 61,
   "metadata": {},
   "outputs": [],
   "source": [
    "ann.compile(optimizer = 'adam', loss = 'categorical_crossentropy', metrics = ['accuracy'])"
   ]
  },
  {
   "cell_type": "code",
   "execution_count": 123,
   "metadata": {
    "scrolled": true
   },
   "outputs": [
    {
     "name": "stdout",
     "output_type": "stream",
     "text": [
      "Train on 42000 samples\n",
      "Epoch 1/50\n",
      "42000/42000 [==============================] - 3s 81us/sample - loss: 0.0091 - accuracy: 0.9970\n",
      "Epoch 2/50\n",
      "42000/42000 [==============================] - 4s 85us/sample - loss: 0.0069 - accuracy: 0.9976\n",
      "Epoch 3/50\n",
      "42000/42000 [==============================] - 4s 88us/sample - loss: 0.0091 - accuracy: 0.9974\n",
      "Epoch 4/50\n",
      "42000/42000 [==============================] - 3s 78us/sample - loss: 0.0057 - accuracy: 0.9983\n",
      "Epoch 5/50\n",
      "42000/42000 [==============================] - ETA: 0s - loss: 0.0096 - accuracy: 0.99 - 3s 79us/sample - loss: 0.0096 - accuracy: 0.9970\n",
      "Epoch 6/50\n",
      "42000/42000 [==============================] - 4s 88us/sample - loss: 0.0109 - accuracy: 0.9972\n",
      "Epoch 7/50\n",
      "42000/42000 [==============================] - 3s 82us/sample - loss: 0.0051 - accuracy: 0.9984\n",
      "Epoch 8/50\n",
      "42000/42000 [==============================] - 4s 85us/sample - loss: 0.0074 - accuracy: 0.9976\n",
      "Epoch 9/50\n",
      "42000/42000 [==============================] - 4s 86us/sample - loss: 0.0088 - accuracy: 0.9975\n",
      "Epoch 10/50\n",
      "42000/42000 [==============================] - 3s 78us/sample - loss: 0.0054 - accuracy: 0.9983\n",
      "Epoch 11/50\n",
      "42000/42000 [==============================] - 4s 88us/sample - loss: 0.0089 - accuracy: 0.9976\n",
      "Epoch 12/50\n",
      "42000/42000 [==============================] - 3s 76us/sample - loss: 0.0096 - accuracy: 0.9975\n",
      "Epoch 13/50\n",
      "42000/42000 [==============================] - 4s 83us/sample - loss: 0.0045 - accuracy: 0.9987\n",
      "Epoch 14/50\n",
      "42000/42000 [==============================] - 4s 86us/sample - loss: 0.0093 - accuracy: 0.9978\n",
      "Epoch 15/50\n",
      "42000/42000 [==============================] - 4s 95us/sample - loss: 0.0033 - accuracy: 0.9989\n",
      "Epoch 16/50\n",
      "42000/42000 [==============================] - 4s 99us/sample - loss: 0.0068 - accuracy: 0.9980\n",
      "Epoch 17/50\n",
      "42000/42000 [==============================] - 3s 81us/sample - loss: 0.0076 - accuracy: 0.9980\n",
      "Epoch 18/50\n",
      "42000/42000 [==============================] - 3s 79us/sample - loss: 0.0071 - accuracy: 0.9981\n",
      "Epoch 19/50\n",
      "42000/42000 [==============================] - 4s 86us/sample - loss: 0.0054 - accuracy: 0.9983\n",
      "Epoch 20/50\n",
      "42000/42000 [==============================] - 3s 83us/sample - loss: 0.0071 - accuracy: 0.9983\n",
      "Epoch 21/50\n",
      "42000/42000 [==============================] - 3s 81us/sample - loss: 0.0059 - accuracy: 0.9985\n",
      "Epoch 22/50\n",
      "42000/42000 [==============================] - 4s 98us/sample - loss: 0.0075 - accuracy: 0.9980\n",
      "Epoch 23/50\n",
      "42000/42000 [==============================] - 4s 97us/sample - loss: 0.0049 - accuracy: 0.9989\n",
      "Epoch 24/50\n",
      "42000/42000 [==============================] - 4s 92us/sample - loss: 0.0091 - accuracy: 0.9975\n",
      "Epoch 25/50\n",
      "42000/42000 [==============================] - 3s 83us/sample - loss: 0.0048 - accuracy: 0.9987\n",
      "Epoch 26/50\n",
      "42000/42000 [==============================] - 3s 79us/sample - loss: 0.0063 - accuracy: 0.9986\n",
      "Epoch 27/50\n",
      "42000/42000 [==============================] - 3s 78us/sample - loss: 0.0083 - accuracy: 0.9977\n",
      "Epoch 28/50\n",
      "42000/42000 [==============================] - 4s 88us/sample - loss: 0.0039 - accuracy: 0.9990\n",
      "Epoch 29/50\n",
      "42000/42000 [==============================] - 3s 83us/sample - loss: 0.0082 - accuracy: 0.9980\n",
      "Epoch 30/50\n",
      "42000/42000 [==============================] - 3s 81us/sample - loss: 0.0063 - accuracy: 0.9983\n",
      "Epoch 31/50\n",
      "42000/42000 [==============================] - 3s 83us/sample - loss: 0.0070 - accuracy: 0.9982\n",
      "Epoch 32/50\n",
      "42000/42000 [==============================] - 3s 77us/sample - loss: 0.0045 - accuracy: 0.9988\n",
      "Epoch 33/50\n",
      "42000/42000 [==============================] - 4s 87us/sample - loss: 0.0108 - accuracy: 0.9975\n",
      "Epoch 34/50\n",
      "42000/42000 [==============================] - 3s 82us/sample - loss: 0.0033 - accuracy: 0.9991\n",
      "Epoch 35/50\n",
      "42000/42000 [==============================] - 3s 80us/sample - loss: 0.0068 - accuracy: 0.9988\n",
      "Epoch 36/50\n",
      "42000/42000 [==============================] - 3s 80us/sample - loss: 0.0040 - accuracy: 0.9992\n",
      "Epoch 37/50\n",
      "42000/42000 [==============================] - 4s 84us/sample - loss: 0.0069 - accuracy: 0.9983\n",
      "Epoch 38/50\n",
      "42000/42000 [==============================] - 4s 84us/sample - loss: 0.0041 - accuracy: 0.9989\n",
      "Epoch 39/50\n",
      "42000/42000 [==============================] - 3s 82us/sample - loss: 0.0064 - accuracy: 0.9986\n",
      "Epoch 40/50\n",
      "42000/42000 [==============================] - 3s 79us/sample - loss: 0.0034 - accuracy: 0.9991\n",
      "Epoch 41/50\n",
      "42000/42000 [==============================] - 3s 79us/sample - loss: 0.0083 - accuracy: 0.9982\n",
      "Epoch 42/50\n",
      "42000/42000 [==============================] - 4s 86us/sample - loss: 0.0055 - accuracy: 0.9986\n",
      "Epoch 43/50\n",
      "42000/42000 [==============================] - 3s 83us/sample - loss: 0.0065 - accuracy: 0.9983\n",
      "Epoch 44/50\n",
      "42000/42000 [==============================] - 3s 81us/sample - loss: 0.0032 - accuracy: 0.9992\n",
      "Epoch 45/50\n",
      "42000/42000 [==============================] - 3s 79us/sample - loss: 0.0039 - accuracy: 0.9991\n",
      "Epoch 46/50\n",
      "42000/42000 [==============================] - 3s 81us/sample - loss: 0.0054 - accuracy: 0.9988\n",
      "Epoch 47/50\n",
      "42000/42000 [==============================] - 4s 88us/sample - loss: 0.0057 - accuracy: 0.9988\n",
      "Epoch 48/50\n",
      "42000/42000 [==============================] - 3s 82us/sample - loss: 0.0051 - accuracy: 0.9991\n",
      "Epoch 49/50\n",
      "42000/42000 [==============================] - 3s 80us/sample - loss: 0.0070 - accuracy: 0.9983\n",
      "Epoch 50/50\n",
      "42000/42000 [==============================] - 3s 80us/sample - loss: 0.0051 - accuracy: 0.9987\n"
     ]
    },
    {
     "data": {
      "text/plain": [
       "<tensorflow.python.keras.callbacks.History at 0x1947b6d1748>"
      ]
     },
     "execution_count": 123,
     "metadata": {},
     "output_type": "execute_result"
    }
   ],
   "source": [
    "ann.fit(train_x, train_y, epochs = 50)"
   ]
  },
  {
   "cell_type": "code",
   "execution_count": 124,
   "metadata": {},
   "outputs": [],
   "source": [
    "y_pred=ann.predict(test_x)"
   ]
  },
  {
   "cell_type": "code",
   "execution_count": 125,
   "metadata": {},
   "outputs": [],
   "source": [
    "y_pred=np.argmax(y_pred,axis=1)"
   ]
  },
  {
   "cell_type": "code",
   "execution_count": 126,
   "metadata": {},
   "outputs": [],
   "source": [
    "imageid=np.array(range(1,28001))\n",
    "submission=pd.DataFrame({'ImageId':imageid,'Label':y_pred})"
   ]
  },
  {
   "cell_type": "code",
   "execution_count": 127,
   "metadata": {},
   "outputs": [],
   "source": [
    "submission.to_csv('digit_ann.csv',index=False)"
   ]
  },
  {
   "cell_type": "code",
   "execution_count": null,
   "metadata": {},
   "outputs": [],
   "source": []
  }
 ],
 "metadata": {
  "kernelspec": {
   "display_name": "Python 3",
   "language": "python",
   "name": "python3"
  },
  "language_info": {
   "codemirror_mode": {
    "name": "ipython",
    "version": 3
   },
   "file_extension": ".py",
   "mimetype": "text/x-python",
   "name": "python",
   "nbconvert_exporter": "python",
   "pygments_lexer": "ipython3",
   "version": "3.7.7"
  }
 },
 "nbformat": 4,
 "nbformat_minor": 4
}
